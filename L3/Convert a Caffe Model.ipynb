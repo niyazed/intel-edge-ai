{
 "cells": [
  {
   "cell_type": "markdown",
   "metadata": {},
   "source": [
    "# Convert a Caffe Model\n",
    "Link - https://docs.openvinotoolkit.org/2018_R5/_docs_MO_DG_prepare_model_convert_model_Convert_Model_From_Caffe.html\n",
    "\n",
    "#### Clone the repo\n",
    "    > git clone https://github.com/forresti/SqueezeNet\n",
    "\n",
    "\n",
    "#### Export path\n",
    "    > export MOD_OPT=/opt/intel/openvino/deployment_tools/model_optimizer\n",
    "\n",
    "#### Run `tree` in CLI:\n",
    "```\n",
    "└── SqueezeNet\n",
    "    ├── LICENSE\n",
    "    ├── README.md\n",
    "    ├── SqueezeNet_v1.0\n",
    "    │   ├── deploy.prototxt\n",
    "    │   ├── solver.prototxt\n",
    "    │   ├── squeezenet_v1.0.caffemodel\n",
    "    │   └── train_val.prototxt\n",
    "    └── SqueezeNet_v1.1\n",
    "        ├── deploy.prototxt\n",
    "        ├── README.md\n",
    "        ├── solver.prototxt\n",
    "        ├── squeezenet_v1.1.caffemodel\n",
    "        └── train_val.prototxt\n",
    "```\n",
    "\n",
    "<hr>\n",
    "\n",
    "#### Convert\n",
    "\n",
    "You will need to specify `--input_proto` if the `.prototxt` file is not named the same as the model.\n",
    "\n",
    "```sh\n",
    "> python3 $MOD_OPT/mo_caffe.py --input_model SqueezeNet/SqueezeNet_v1.1/squeezenet_v1.1.caffemodel --input_proto SqueezeNet/SqueezeNet_v1.1/deploy.prototxt \n",
    "```\n",
    "    .....\n",
    "    .....\n",
    "    \n",
    "    [ SUCCESS ] Generated IR model.\n",
    "    [ SUCCESS ] XML file: /home/workspace/./squeezenet_v1.1.xml\n",
    "    [ SUCCESS ] BIN file: /home/workspace/./squeezenet_v1.1.bin\n",
    "    [ SUCCESS ] Total execution time: 5.93 seconds. "
   ]
  },
  {
   "cell_type": "code",
   "execution_count": null,
   "metadata": {},
   "outputs": [],
   "source": []
  }
 ],
 "metadata": {
  "kernelspec": {
   "display_name": "Python 3",
   "language": "python",
   "name": "python3"
  },
  "language_info": {
   "codemirror_mode": {
    "name": "ipython",
    "version": 3
   },
   "file_extension": ".py",
   "mimetype": "text/x-python",
   "name": "python",
   "nbconvert_exporter": "python",
   "pygments_lexer": "ipython3",
   "version": "3.6.8"
  }
 },
 "nbformat": 4,
 "nbformat_minor": 2
}
