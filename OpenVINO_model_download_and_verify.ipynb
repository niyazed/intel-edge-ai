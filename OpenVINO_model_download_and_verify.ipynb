{
 "cells": [
  {
   "cell_type": "markdown",
   "metadata": {},
   "source": [
    "# Choosing Models\n",
    "\n",
    "- `<Pretrained Models>`: https://software.intel.com/en-us/openvino-toolkit/documentation/pretrained-models \n",
    "\n",
    "- `<Model Downloader Docs>`: https://docs.openvinotoolkit.org/latest/_tools_downloader_README.html\n",
    "\n",
    "I chose the following models for the three tasks:\n",
    "\n",
    "- Human Pose Estimation: human-pose-estimation-0001\n",
    "- Text Detection: text-detection-0004\n",
    "- Determining Car Type & Color: vehicle-attributes-recognition-barrier-0039\n",
    "<hr>"
   ]
  },
  {
   "cell_type": "markdown",
   "metadata": {},
   "source": [
    "# Downloading Models\n",
    "\n",
    "To navigate to the directory containing the Model Downloader:\n",
    "\n",
    "```sh\n",
    "cd /opt/intel/openvino/deployment_tools/open_model_zoo/tools/downloader\n",
    "\n",
    "```\n",
    "\n",
    "Within there, you'll notice a `downloader.py` file, and can use the `-h` argument with it to see available arguments. For this exercise, `--name` for model name, and `--precisions`, used when only certain precisions are desired, are the important arguments. Note that running `downloader.py` without these will download all available pre-trained models, which will be multiple gigabytes. You can do this on your local machine, if desired, but the workspace will not allow you to store that much information.\n",
    "\n",
    "> <b>Note:</b> In the classroom workspace, you will not be able to write to the `/opt/intel` directory, so you should also use the `-o` argument to specify your output directory as `/home/workspace` (which will download into a created `intel` folder therein).\n",
    "\n",
    "#### Downloading Human Pose Model\n",
    "```sh\n",
    "sudo ./downloader.py --name human-pose-estimation-0001 -o /home/workspace\n",
    "```\n",
    "#### Downloading Text Detection Model\n",
    "```sh\n",
    "sudo ./downloader.py --name text-detection-0004 --precisions FP16 -o /home/workspace\n",
    "```\n",
    "#### Downloading Car Metadata Model\n",
    "```sh\n",
    "sudo ./downloader.py --name vehicle-attributes-recognition-barrier-0039 --precisions INT8 -o /home/workspace\n",
    "```\n",
    "<hr>"
   ]
  },
  {
   "cell_type": "markdown",
   "metadata": {},
   "source": [
    "# Verifying Downloads\n",
    "\n",
    "The downloader itself will tell you the directories these get saved into, but to verify yourself, first start in the `/home/workspace` directory (or the same directory as the Model Downloader if on your local machine without the `-o` argument). From there, you can `cd intel`, and then you should see three directories - one for each downloaded model. Within those directories, there should be separate subdirectories for the precisions that were downloaded, and then `.xml` and `.bin` files within those subdirectories, that make up the model.\n",
    "\n",
    "> To view all the subdirectories type `tree` in terminal\n"
   ]
  },
  {
   "cell_type": "code",
   "execution_count": null,
   "metadata": {},
   "outputs": [],
   "source": []
  },
  {
   "cell_type": "code",
   "execution_count": null,
   "metadata": {},
   "outputs": [],
   "source": []
  },
  {
   "cell_type": "code",
   "execution_count": null,
   "metadata": {},
   "outputs": [],
   "source": []
  }
 ],
 "metadata": {
  "kernelspec": {
   "display_name": "Python 3",
   "language": "python",
   "name": "python3"
  },
  "language_info": {
   "codemirror_mode": {
    "name": "ipython",
    "version": 3
   },
   "file_extension": ".py",
   "mimetype": "text/x-python",
   "name": "python",
   "nbconvert_exporter": "python",
   "pygments_lexer": "ipython3",
   "version": "3.6.8"
  }
 },
 "nbformat": 4,
 "nbformat_minor": 2
}
